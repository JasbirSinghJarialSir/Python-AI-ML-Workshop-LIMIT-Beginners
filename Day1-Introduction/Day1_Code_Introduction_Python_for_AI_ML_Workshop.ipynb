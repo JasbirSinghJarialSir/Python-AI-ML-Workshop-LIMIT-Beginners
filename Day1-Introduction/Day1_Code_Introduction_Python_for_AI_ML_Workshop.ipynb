{
  "cells": [
    {
      "cell_type": "markdown",
      "metadata": {
        "id": "wtINwvbmo07t"
      },
      "source": [
        "Python for AI/ML:\n",
        "A Hands-on Workshop for Beginners – Day 1 : 26.07.2025\n",
        "\n",
        "Prof. Jasbir Singh, HoD Computer Science"
      ]
    },
    {
      "cell_type": "code",
      "execution_count": null,
      "metadata": {
        "id": "ZJ6FeaaDoqUb"
      },
      "outputs": [],
      "source": [
        "# Greeting the user with their name\n",
        "name = input(\"Enter your name: \")\n",
        "print(\"Welcome to the Python workshop,\", name + \"!\")"
      ]
    },
    {
      "cell_type": "code",
      "execution_count": null,
      "metadata": {
        "colab": {
          "base_uri": "https://localhost:8080/"
        },
        "id": "6CvmZ_pEpbsP",
        "outputId": "684905fd-c0ef-4f71-917e-2d7a7df605b9",
        "collapsed": true
      },
      "outputs": [
        {
          "name": "stdout",
          "output_type": "stream",
          "text": [
            "Enter first number: 10\n",
            "Enter second number: 20\n",
            "The sum is: 30\n"
          ]
        }
      ],
      "source": [
        "# Adding two numbers entered by the user\n",
        "num1 = input(\"Enter first number: \")\n",
        "num2 = input(\"Enter second number: \")\n",
        "\n",
        "# Convert strings to integers\n",
        "num1 = int(num1)\n",
        "num2 = int(num2)\n",
        "\n",
        "# Calculate sum\n",
        "total = num1 + num2\n",
        "print(\"The sum is:\", total)\n"
      ]
    },
    {
      "cell_type": "code",
      "execution_count": null,
      "metadata": {
        "id": "EAAI8afupkrU"
      },
      "outputs": [],
      "source": [
        "# Calculating area using width and height\n",
        "width = float(input(\"Enter the width: \"))\n",
        "height = float(input(\"Enter the height: \"))\n",
        "\n",
        "area = width * height\n",
        "print(\"The area of the rectangle is:\", area)\n"
      ]
    },
    {
      "cell_type": "markdown",
      "metadata": {
        "id": "5bpeBeKA_WHB"
      },
      "source": [
        "Assignement 1:  Create a game where the computer randomly selects a number\n",
        "between 1 and 50.\n",
        "\n",
        "---\n",
        "\n",
        "\n",
        ".The player has 5 chances to guess the number. After each guess, provide a hint:\n",
        "“Too High” if the guess is more\n",
        "“Too Low” if the guess is less\n",
        "“Correct!” if the guess matches\n"
      ]
    },
    {
      "cell_type": "code",
      "execution_count": null,
      "metadata": {
        "colab": {
          "base_uri": "https://localhost:8080/"
        },
        "id": "4LZsgJ7q_cr8",
        "outputId": "ae5903ab-f157-4a4f-d92e-4f9a14a0e375"
      },
      "outputs": [
        {
          "name": "stdout",
          "output_type": "stream",
          "text": [
            "Guess the number (between 1 and 50): 22\n",
            "Too High\n",
            "Guess the number (between 1 and 50): 23\n",
            "Too High\n",
            "Guess the number (between 1 and 50): 24\n",
            "Too High\n",
            "Guess the number (between 1 and 50): 20\n",
            "Too High\n",
            "Guess the number (between 1 and 50): 15\n",
            "Too High\n",
            "Sorry, you've run out of guesses. The number was 9\n"
          ]
        }
      ],
      "source": [
        "#Assignement 1\n",
        "import random\n",
        "# Generate a random number between 1 and 50\n",
        "secret_number = random.randint(1, 50)\n",
        "# Set the number of guesses allowed\n",
        "max_guesses = 5\n",
        "# Loop for the number of guesses\n",
        "for i in range(max_guesses):\n",
        "    # Get the user's guess\n",
        "    guess = int(input(\"Guess the number (between 1 and 50): \"))\n",
        "    # Check the guess\n",
        "    if guess > secret_number:\n",
        "        print(\"Too High\")\n",
        "    elif guess < secret_number:\n",
        "        print(\"Too Low\")\n",
        "    else:\n",
        "        print(\"Correct!\")\n",
        "        break\n",
        "else:\n",
        "    print(\"Sorry, you've run out of guesses. The number was\", secret_number)"
      ]
    },
    {
      "cell_type": "markdown",
      "metadata": {
        "id": "-r14B0ZgHYBF"
      },
      "source": [
        "Assignemnet 2:  Design a game that scrambles a word (e.g., \"python\" → \"nothpy\") and asks the user to guess the original word. Give 3 attempts. At the end, display the correct word if the user fails.\n"
      ]
    },
    {
      "cell_type": "code",
      "execution_count": null,
      "metadata": {
        "colab": {
          "base_uri": "https://localhost:8080/"
        },
        "id": "KmnkdyAGIPOL",
        "outputId": "1825c015-3346-46c0-c3ce-a43c42088a20"
      },
      "outputs": [
        {
          "name": "stdout",
          "output_type": "stream",
          "text": [
            "Guess the word! It's a scrambled version of a common term in computer science.\n",
            "Scrambled word: nnirlgae\n",
            "Attempt 1: inlarge\n",
            "Incorrect guess.\n",
            "Attempt 2: inlargen\n",
            "Incorrect guess.\n",
            "Attempt 3: learning\n",
            "Congratulations! You guessed the word correctly.\n"
          ]
        }
      ],
      "source": [
        "import random\n",
        "\n",
        "def scramble_word(word):\n",
        "    \"\"\"Scrambles a word by shuffling its letters.\"\"\"\n",
        "    scrambled = list(word)\n",
        "    random.shuffle(scrambled)\n",
        "    return \"\".join(scrambled)\n",
        "\n",
        "# List of words to choose from\n",
        "words = [\"python\", \"programming\", \"computer\", \"science\", \"machine\", \"learning\"]\n",
        "\n",
        "# Select a random word\n",
        "original_word = random.choice(words)\n",
        "\n",
        "# Scramble the word\n",
        "scrambled_word = scramble_word(original_word)\n",
        "\n",
        "# Game logic\n",
        "print(\"Guess the word! It's a scrambled version of a common term in computer science.\")\n",
        "print(\"Scrambled word:\", scrambled_word)\n",
        "\n",
        "for attempt in range(3):\n",
        "    guess = input(f\"Attempt {attempt + 1}: \").lower()\n",
        "    if guess == original_word:\n",
        "        print(\"Congratulations! You guessed the word correctly.\")\n",
        "        break\n",
        "    else:\n",
        "        print(\"Incorrect guess.\")\n",
        "else:\n",
        "    print(f\"\\nSorry, you're out of attempts. The word was '{original_word}'.\")"
      ]
    },
    {
      "cell_type": "markdown",
      "metadata": {
        "id": "dlxZQWb1TdnI"
      },
      "source": [
        "Assignment 3: Rock-Paper-Scissors Game\n",
        "Problem Statement:\n",
        "Make a 2-player (user vs computer) Rock-Paper-Scissors game. Each round, both players choose an option, and the winner is decided based on the rules. Display score after 3 rounds."
      ]
    },
    {
      "cell_type": "code",
      "execution_count": null,
      "metadata": {
        "colab": {
          "base_uri": "https://localhost:8080/"
        },
        "id": "KkqyXwWaUYGU",
        "outputId": "67545aa9-765b-4263-856d-0ca979f6e833",
        "collapsed": true
      },
      "outputs": [
        {
          "name": "stdout",
          "output_type": "stream",
          "text": [
            "\n",
            "--- Round 1 ---\n",
            "Enter your choice (rock, paper, or scissors): rock\n",
            "Computer chose: paper\n",
            "Computer wins this round!\n",
            "\n",
            "--- Round 2 ---\n",
            "Enter your choice (rock, paper, or scissors): paper\n",
            "Computer chose: paper\n",
            "It's a tie!\n",
            "\n",
            "--- Round 3 ---\n",
            "Enter your choice (rock, paper, or scissors): rock\n",
            "Computer chose: paper\n",
            "Computer wins this round!\n",
            "\n",
            "--- Final Score ---\n",
            "You: 0\n",
            "Computer: 2\n",
            "Sorry, you lost the game.\n"
          ]
        }
      ],
      "source": [
        "import random\n",
        "\n",
        "def get_computer_choice():\n",
        "    \"\"\"Randomly returns 'rock', 'paper', or 'scissors'.\"\"\"\n",
        "    return random.choice(['rock', 'paper', 'scissors'])\n",
        "\n",
        "def determine_winner(user_choice, computer_choice):\n",
        "    \"\"\"Determines the winner of a round.\"\"\"\n",
        "    if user_choice == computer_choice:\n",
        "        return 'tie'\n",
        "    elif (user_choice == 'rock' and computer_choice == 'scissors') or \\\n",
        "         (user_choice == 'scissors' and computer_choice == 'paper') or \\\n",
        "         (user_choice == 'paper' and computer_choice == 'rock'):\n",
        "        return 'user'\n",
        "    else:\n",
        "        return 'computer'\n",
        "\n",
        "def play_game():\n",
        "    \"\"\"Plays a 3-round game of Rock-Paper-Scissors.\"\"\"\n",
        "    user_score = 0\n",
        "    computer_score = 0\n",
        "\n",
        "    for round_num in range(3):\n",
        "        print(f\"\\n--- Round {round_num + 1} ---\")\n",
        "        user_choice = input(\"Enter your choice (rock, paper, or scissors): \").lower()\n",
        "        while user_choice not in ['rock', 'paper', 'scissors']:\n",
        "            user_choice = input(\"Invalid choice. Please enter rock, paper, or scissors: \").lower()\n",
        "\n",
        "        computer_choice = get_computer_choice()\n",
        "        print(f\"Computer chose: {computer_choice}\")\n",
        "\n",
        "        winner = determine_winner(user_choice, computer_choice)\n",
        "        if winner == 'user':\n",
        "            print(\"You win this round!\")\n",
        "            user_score += 1\n",
        "        elif winner == 'computer':\n",
        "            print(\"Computer wins this round!\")\n",
        "            computer_score += 1\n",
        "        else:\n",
        "            print(\"It's a tie!\")\n",
        "\n",
        "    print(\"\\n--- Final Score ---\")\n",
        "    print(f\"You: {user_score}\")\n",
        "    print(f\"Computer: {computer_score}\")\n",
        "\n",
        "    if user_score > computer_score:\n",
        "        print(\"Congratulations! You won the game.\")\n",
        "    elif computer_score > user_score:\n",
        "        print(\"Sorry, you lost the game.\")\n",
        "    else:\n",
        "        print(\"The game is a tie.\")\n",
        "\n",
        "# Start the game\n",
        "play_game()"
      ]
    },
    {
      "cell_type": "markdown",
      "metadata": {
        "id": "McqvnnwAVuZF"
      },
      "source": [
        "Assignment 4: Dice Rolling Simulator\n",
        "Problem Statement:\n",
        " Simulate the rolling of a dice. Allow the user to roll the dice multiple times by entering ‘yes’ or ‘no’. Print a random number between 1 and 6 for each roll."
      ]
    },
    {
      "cell_type": "code",
      "execution_count": 1,
      "metadata": {
        "colab": {
          "base_uri": "https://localhost:8080/"
        },
        "id": "NFOthSJvWanD",
        "outputId": "6fecb244-3b95-4b2f-afcf-3103fa5b5aba"
      },
      "outputs": [
        {
          "output_type": "stream",
          "name": "stdout",
          "text": [
            "Roll the dice? (yes/no): yes\n",
            "You rolled a 4!\n",
            "Roll the dice? (yes/no): yes\n",
            "You rolled a 1!\n",
            "Roll the dice? (yes/no): yes\n",
            "You rolled a 2!\n",
            "Roll the dice? (yes/no): yes\n",
            "You rolled a 4!\n",
            "Roll the dice? (yes/no): no\n",
            "Thanks for playing!\n"
          ]
        }
      ],
      "source": [
        "import random\n",
        "\n",
        "def roll_dice():\n",
        "    \"\"\"Simulates rolling a single six-sided die.\"\"\"\n",
        "    return random.randint(1, 6)\n",
        "\n",
        "def dice_rolling_simulator():\n",
        "    \"\"\"Allows the user to roll a dice multiple times.\"\"\"\n",
        "    while True:\n",
        "        roll = input(\"Roll the dice? (yes/no): \").lower()\n",
        "        if roll == 'yes':\n",
        "            result = roll_dice()\n",
        "            print(f\"You rolled a {result}!\")\n",
        "        elif roll == 'no':\n",
        "            print(\"Thanks for playing!\")\n",
        "            break\n",
        "        else:\n",
        "            print(\"Invalid input. Please enter 'yes' or 'no'.\")\n",
        "\n",
        "# Start the simulator\n",
        "dice_rolling_simulator()"
      ]
    },
    {
      "cell_type": "markdown",
      "metadata": {
        "id": "JUyhndboXB9P"
      },
      "source": [
        "Assignment 5: Hangman (Mini Version)\n",
        "\n",
        "---\n",
        "\n",
        "\n",
        "Problem Statement:\n",
        " Create a mini Hangman game where the user has to guess a 5-letter word. The user can guess one letter at a time, with a maximum of 6 incorrect guesses."
      ]
    },
    {
      "cell_type": "code",
      "execution_count": 2,
      "metadata": {
        "colab": {
          "base_uri": "https://localhost:8080/"
        },
        "id": "UPHwQn9YXOjz",
        "outputId": "323144f8-394e-4bd9-8ecc-0034db606a88"
      },
      "outputs": [
        {
          "output_type": "stream",
          "name": "stdout",
          "text": [
            "Welcome to Hangman!\n",
            "The word has 5 letters. You have 6 incorrect guesses.\n",
            "\n",
            "Word: _____\n",
            "Guess a letter: mouse\n",
            "Invalid input. Please enter a single letter.\n",
            "\n",
            "Word: _____\n",
            "Guess a letter: L\n",
            "Correct guess!\n",
            "\n",
            "Word: ___l_\n",
            "Guess a letter: A\n",
            "Correct guess!\n",
            "\n",
            "Word: a__l_\n",
            "Guess a letter: p\n",
            "Correct guess!\n",
            "\n",
            "Word: appl_\n",
            "Guess a letter: p\n",
            "You've already guessed that letter.\n",
            "\n",
            "Word: appl_\n",
            "Guess a letter: e\n",
            "Correct guess!\n",
            "\n",
            "Word: apple\n",
            "Congratulations! You guessed the word correctly.\n"
          ]
        }
      ],
      "source": [
        "import random\n",
        "\n",
        "def hangman():\n",
        "    \"\"\"Plays a mini version of the Hangman game.\"\"\"\n",
        "    word = \"apple\"\n",
        "    guessed_letters = []\n",
        "    incorrect_guesses = 0\n",
        "    max_incorrect_guesses = 6\n",
        "\n",
        "    print(\"Welcome to Hangman!\")\n",
        "    print(\"The word has 5 letters. You have 6 incorrect guesses.\")\n",
        "\n",
        "    while incorrect_guesses < max_incorrect_guesses:\n",
        "        display_word = \"\"\n",
        "        for letter in word:\n",
        "            if letter in guessed_letters:\n",
        "                display_word += letter\n",
        "            else:\n",
        "                display_word += \"_\"\n",
        "        print(\"\\nWord:\", display_word)\n",
        "\n",
        "        if display_word == word:\n",
        "            print(\"Congratulations! You guessed the word correctly.\")\n",
        "            break\n",
        "\n",
        "        guess = input(\"Guess a letter: \").lower()\n",
        "\n",
        "        if len(guess) != 1 or not guess.isalpha():\n",
        "            print(\"Invalid input. Please enter a single letter.\")\n",
        "            continue\n",
        "\n",
        "        if guess in guessed_letters:\n",
        "            print(\"You've already guessed that letter.\")\n",
        "            continue\n",
        "\n",
        "        guessed_letters.append(guess)\n",
        "\n",
        "        if guess in word:\n",
        "            print(\"Correct guess!\")\n",
        "        else:\n",
        "            incorrect_guesses += 1\n",
        "            print(f\"Incorrect guess! You have {max_incorrect_guesses - incorrect_guesses} guesses left.\")\n",
        "\n",
        "    else:\n",
        "        print(f\"\\nSorry, you're out of guesses. The word was '{word}'.\")\n",
        "\n",
        "# Start the game\n",
        "hangman()"
      ]
    }
  ],
  "metadata": {
    "colab": {
      "provenance": []
    },
    "kernelspec": {
      "display_name": "Python 3",
      "name": "python3"
    },
    "language_info": {
      "name": "python"
    }
  },
  "nbformat": 4,
  "nbformat_minor": 0
}