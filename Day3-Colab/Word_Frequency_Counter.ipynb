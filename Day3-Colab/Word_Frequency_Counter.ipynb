# Word Frequency Counter in Python

def clean_text(text):
    # Remove punctuation and convert to lowercase
    import string
    for char in string.punctuation:
        text = text.replace(char, "")
    return text.lower()

def word_frequency_counter():
    print("📘 Word Frequency Counter")
    paragraph = input("Enter a paragraph:\n")

    # Clean and split the paragraph
    cleaned = clean_text(paragraph)
    words = cleaned.split()

    # Count word frequencies
    word_freq = {}
    for word in words:
        word_freq[word] = word_freq.get(word, 0) + 1

    # Display results
    print("\n📊 Word Frequency Table:\n")
    for word, count in sorted(word_freq.items(), key=lambda x: x[1], reverse=True):
        print(f"{word:<15} : {count}")

# Run the counter
word_frequency_counter()
