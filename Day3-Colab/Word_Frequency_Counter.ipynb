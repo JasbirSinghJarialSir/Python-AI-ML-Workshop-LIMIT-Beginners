{
  "nbformat": 4,
  "nbformat_minor": 0,
  "metadata": {
    "colab": {
      "provenance": []
    },
    "kernelspec": {
      "name": "python3",
      "display_name": "Python 3"
    },
    "language_info": {
      "name": "python"
    }
  },
  "cells": [
    {
      "cell_type": "code",
      "execution_count": null,
      "metadata": {
        "id": "EC70LPECjMI2"
      },
      "outputs": [],
      "source": [
        "# Word Frequency Counter in Python\n",
        "\n",
        "def clean_text(text):\n",
        "    # Remove punctuation and convert to lowercase\n",
        "    import string\n",
        "    for char in string.punctuation:\n",
        "        text = text.replace(char, \"\")\n",
        "    return text.lower()\n",
        "\n",
        "def word_frequency_counter():\n",
        "    print(\"📘 Word Frequency Counter\")\n",
        "    paragraph = input(\"Enter a paragraph:\\n\")\n",
        "\n",
        "    # Clean and split the paragraph\n",
        "    cleaned = clean_text(paragraph)\n",
        "    words = cleaned.split()\n",
        "\n",
        "    # Count word frequencies\n",
        "    word_freq = {}\n",
        "    for word in words:\n",
        "        word_freq[word] = word_freq.get(word, 0) + 1\n",
        "\n",
        "    # Display results\n",
        "    print(\"\\n📊 Word Frequency Table:\\n\")\n",
        "    for word, count in sorted(word_freq.items(), key=lambda x: x[1], reverse=True):\n",
        "        print(f\"{word:<15} : {count}\")\n",
        "\n",
        "# Run the counter\n",
        "word_frequency_counter()\n"
      ]
    }
  ]
}