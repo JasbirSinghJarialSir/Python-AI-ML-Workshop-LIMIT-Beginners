# Python Quiz Game using Functions and Loops

def run_quiz(questions):
    score = 0
    print("🧠 Welcome to the Python Quiz Game!\n")

    for idx, q in enumerate(questions):
        print(f"Q{idx+1}. {q['question']}")
        for i, option in enumerate(q['options']):
            print(f"{i+1}. {option}")
        try:
            answer = int(input("Enter your answer (1-4): "))
            if q['options'][answer - 1].lower() == q['answer'].lower():
                print("✅ Correct!\n")
                score += 1
            else:
                print(f"❌ Wrong! Correct Answer: {q['answer']}\n")
        except:
            print("❗ Invalid input. Skipping question.\n")
    
    print(f"🎉 Quiz Completed! You scored {score} out of {len(questions)}.")

# List of quiz questions
quiz_questions = [
    {
        "question": "What is the keyword to define a function in Python?",
        "options": ["function", "def", "define", "func"],
        "answer": "def"
    },
    {
        "question": "Which of these is a valid variable name?",
        "options": ["2var", "_name", "user-name", "None"],
        "answer": "_name"
    },
    {
        "question": "Which function is used to take input from the user?",
        "options": ["print()", "input()", "scanf()", "read()"],
        "answer": "input()"
    },
    {
        "question": "What does 'len()' do in Python?",
        "options": ["Adds numbers", "Returns length", "Creates a loop", "None"],
        "answer": "Returns length"
    },
    {
        "question": "Who created Python?",
        "options": ["James Gosling", "Guido van Rossum", "Dennis Ritchie", "Bjarne Stroustrup"],
        "answer": "Guido van Rossum"
    }
]

# Run the quiz
run_quiz(quiz_questions)
