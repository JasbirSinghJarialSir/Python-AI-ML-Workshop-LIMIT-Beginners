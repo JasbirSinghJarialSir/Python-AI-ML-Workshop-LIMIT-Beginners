{
  "nbformat": 4,
  "nbformat_minor": 0,
  "metadata": {
    "colab": {
      "provenance": []
    },
    "kernelspec": {
      "name": "python3",
      "display_name": "Python 3"
    },
    "language_info": {
      "name": "python"
    }
  },
  "cells": [
    {
      "cell_type": "code",
      "execution_count": null,
      "metadata": {
        "id": "x-HcUaB1h4KS"
      },
      "outputs": [],
      "source": [
        "# Python Quiz Game using Functions and Loops\n",
        "\n",
        "def run_quiz(questions):\n",
        "    score = 0\n",
        "    print(\"🧠 Welcome to the Python Quiz Game!\\n\")\n",
        "\n",
        "    for idx, q in enumerate(questions):\n",
        "        print(f\"Q{idx+1}. {q['question']}\")\n",
        "        for i, option in enumerate(q['options']):\n",
        "            print(f\"{i+1}. {option}\")\n",
        "        try:\n",
        "            answer = int(input(\"Enter your answer (1-4): \"))\n",
        "            if q['options'][answer - 1].lower() == q['answer'].lower():\n",
        "                print(\"✅ Correct!\\n\")\n",
        "                score += 1\n",
        "            else:\n",
        "                print(f\"❌ Wrong! Correct Answer: {q['answer']}\\n\")\n",
        "        except:\n",
        "            print(\"❗ Invalid input. Skipping question.\\n\")\n",
        "\n",
        "    print(f\"🎉 Quiz Completed! You scored {score} out of {len(questions)}.\")\n",
        "\n",
        "# List of quiz questions\n",
        "quiz_questions = [\n",
        "    {\n",
        "        \"question\": \"What is the keyword to define a function in Python?\",\n",
        "        \"options\": [\"function\", \"def\", \"define\", \"func\"],\n",
        "        \"answer\": \"def\"\n",
        "    },\n",
        "    {\n",
        "        \"question\": \"Which of these is a valid variable name?\",\n",
        "        \"options\": [\"2var\", \"_name\", \"user-name\", \"None\"],\n",
        "        \"answer\": \"_name\"\n",
        "    },\n",
        "    {\n",
        "        \"question\": \"Which function is used to take input from the user?\",\n",
        "        \"options\": [\"print()\", \"input()\", \"scanf()\", \"read()\"],\n",
        "        \"answer\": \"input()\"\n",
        "    },\n",
        "    {\n",
        "        \"question\": \"What does 'len()' do in Python?\",\n",
        "        \"options\": [\"Adds numbers\", \"Returns length\", \"Creates a loop\", \"None\"],\n",
        "        \"answer\": \"Returns length\"\n",
        "    },\n",
        "    {\n",
        "        \"question\": \"Who created Python?\",\n",
        "        \"options\": [\"James Gosling\", \"Guido van Rossum\", \"Dennis Ritchie\", \"Bjarne Stroustrup\"],\n",
        "        \"answer\": \"Guido van Rossum\"\n",
        "    }\n",
        "]\n",
        "\n",
        "# Run the quiz\n",
        "run_quiz(quiz_questions)\n"
      ]
    }
  ]
}