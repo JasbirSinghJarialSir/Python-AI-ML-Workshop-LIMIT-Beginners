{
  "nbformat": 4,
  "nbformat_minor": 0,
  "metadata": {
    "colab": {
      "provenance": []
    },
    "kernelspec": {
      "name": "python3",
      "display_name": "Python 3"
    },
    "language_info": {
      "name": "python"
    }
  },
  "cells": [
    {
      "cell_type": "code",
      "execution_count": 5,
      "metadata": {
        "colab": {
          "base_uri": "https://localhost:8080/"
        },
        "id": "f2afi28AWwZF",
        "outputId": "bc97982d-97a3-4a72-f9e6-7a4e637a109e"
      },
      "outputs": [
        {
          "output_type": "stream",
          "name": "stdout",
          "text": [
            "Data has been written to students.txt\n"
          ]
        }
      ],
      "source": [
        "# 📌 Cell 1: Writing student data to a file\n",
        "\n",
        "filename = \"students.txt\"\n",
        "\n",
        "with open(filename, \"w\") as f:\n",
        "    f.write(\"Name,Roll No,Phone No\\n\")\n",
        "    f.write(\"Riya,101,9876543210\\n\")\n",
        "    f.write(\"Amit,102,7896541230\\n\")\n",
        "    f.write(\"Tanvi,103,9988776655\\n\")\n",
        "\n",
        "print(f\"Data has been written to {filename}\")\n"
      ]
    },
    {
      "cell_type": "code",
      "source": [
        "# 📌 Cell 2: Reading and displaying file content\n",
        "\n",
        "with open(\"students.txt\", \"r\") as f:\n",
        "    lines = f.readlines()\n",
        "\n",
        "print(\"📋 Student Data:\")\n",
        "for line in lines:\n",
        "    print(line.strip())\n"
      ],
      "metadata": {
        "colab": {
          "base_uri": "https://localhost:8080/"
        },
        "id": "kLZrOW5FXIqY",
        "outputId": "a77ffd0b-cfba-4890-8d51-435213e66e97"
      },
      "execution_count": 6,
      "outputs": [
        {
          "output_type": "stream",
          "name": "stdout",
          "text": [
            "📋 Student Data:\n",
            "Name,Roll No,Phone No\n",
            "Riya,101,9876543210\n",
            "Amit,102,7896541230\n",
            "Tanvi,103,9988776655\n"
          ]
        }
      ]
    },
    {
      "cell_type": "code",
      "metadata": {
        "colab": {
          "base_uri": "https://localhost:8080/"
        },
        "id": "29c44e5e",
        "outputId": "7030695a-22c0-41fa-e85f-7cbce2e346b8"
      },
      "source": [
        "# 📌 Cell 3: Use CSV module and analyze using collections\n",
        "import csv\n",
        "from collections import Counter\n",
        "names = []\n",
        "with open(\"students.txt\", \"r\") as file:\n",
        "    reader = csv.DictReader(file)\n",
        "    for row in reader:\n",
        "        names.append(row['Name'])\n",
        "# Count total students\n",
        "print(f\"\\n👩‍🎓 Total students: {len(names)}\")\n",
        "# Count how many students have names starting with the same letter\n",
        "initials = [name[0].upper() for name in names]\n",
        "initial_counts = Counter(initials)\n",
        "print(\"\\n🔤 Student initials frequency:\")\n",
        "for k, v in initial_counts.items():\n",
        "    print(f\"{k}: {v}\")\n"
      ],
      "execution_count": 7,
      "outputs": [
        {
          "output_type": "stream",
          "name": "stdout",
          "text": [
            "\n",
            "👩‍🎓 Total students: 3\n",
            "\n",
            "🔤 Student initials frequency:\n",
            "R: 1\n",
            "A: 1\n",
            "T: 1\n"
          ]
        }
      ]
    }
  ]
}